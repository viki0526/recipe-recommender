{
 "cells": [
  {
   "cell_type": "code",
   "execution_count": 1,
   "metadata": {},
   "outputs": [
    {
     "data": {
      "text/plain": [
       "Index(['title', 'ingredients', 'directions', 'link', 'source', 'NER', 'site'], dtype='object')"
      ]
     },
     "execution_count": 1,
     "metadata": {},
     "output_type": "execute_result"
    }
   ],
   "source": [
    "import pandas as pd\n",
    "\n",
    "df = pd.read_csv('recipes_data.csv')\n",
    "df.columns"
   ]
  },
  {
   "cell_type": "code",
   "execution_count": 17,
   "metadata": {},
   "outputs": [
    {
     "data": {
      "text/plain": [
       "set"
      ]
     },
     "execution_count": 17,
     "metadata": {},
     "output_type": "execute_result"
    }
   ],
   "source": [
    "# for idx, row in df.iloc[:5].iterrows():\n",
    "#     print(row)\n",
    "type(df.iloc[0]['NER'])"
   ]
  },
  {
   "cell_type": "code",
   "execution_count": 4,
   "metadata": {},
   "outputs": [
    {
     "data": {
      "text/html": [
       "<div>\n",
       "<style scoped>\n",
       "    .dataframe tbody tr th:only-of-type {\n",
       "        vertical-align: middle;\n",
       "    }\n",
       "\n",
       "    .dataframe tbody tr th {\n",
       "        vertical-align: top;\n",
       "    }\n",
       "\n",
       "    .dataframe thead th {\n",
       "        text-align: right;\n",
       "    }\n",
       "</style>\n",
       "<table border=\"1\" class=\"dataframe\">\n",
       "  <thead>\n",
       "    <tr style=\"text-align: right;\">\n",
       "      <th></th>\n",
       "      <th>title</th>\n",
       "      <th>ingredients</th>\n",
       "      <th>directions</th>\n",
       "      <th>link</th>\n",
       "      <th>source</th>\n",
       "      <th>NER</th>\n",
       "      <th>site</th>\n",
       "    </tr>\n",
       "  </thead>\n",
       "  <tbody>\n",
       "    <tr>\n",
       "      <th>0</th>\n",
       "      <td>No-Bake Nut Cookies</td>\n",
       "      <td>[\"1 c. firmly packed brown sugar\", \"1/2 c. eva...</td>\n",
       "      <td>[\"In a heavy 2-quart saucepan, mix brown sugar...</td>\n",
       "      <td>www.cookbooks.com/Recipe-Details.aspx?id=44874</td>\n",
       "      <td>Gathered</td>\n",
       "      <td>{bite size shredded rice biscuits, nuts, brown...</td>\n",
       "      <td>www.cookbooks.com</td>\n",
       "    </tr>\n",
       "    <tr>\n",
       "      <th>1</th>\n",
       "      <td>Jewell Ball'S Chicken</td>\n",
       "      <td>[\"1 small jar chipped beef, cut up\", \"4 boned ...</td>\n",
       "      <td>[\"Place chipped beef on bottom of baking dish....</td>\n",
       "      <td>www.cookbooks.com/Recipe-Details.aspx?id=699419</td>\n",
       "      <td>Gathered</td>\n",
       "      <td>{beef, chicken breasts, sour cream, cream of m...</td>\n",
       "      <td>www.cookbooks.com</td>\n",
       "    </tr>\n",
       "    <tr>\n",
       "      <th>2</th>\n",
       "      <td>Creamy Corn</td>\n",
       "      <td>[\"2 (16 oz.) pkg. frozen corn\", \"1 (8 oz.) pkg...</td>\n",
       "      <td>[\"In a slow cooker, combine all ingredients. C...</td>\n",
       "      <td>www.cookbooks.com/Recipe-Details.aspx?id=10570</td>\n",
       "      <td>Gathered</td>\n",
       "      <td>{pepper, frozen corn, cream cheese, salt, butt...</td>\n",
       "      <td>www.cookbooks.com</td>\n",
       "    </tr>\n",
       "    <tr>\n",
       "      <th>3</th>\n",
       "      <td>Chicken Funny</td>\n",
       "      <td>[\"1 large whole chicken\", \"2 (10 1/2 oz.) cans...</td>\n",
       "      <td>[\"Boil and debone chicken.\", \"Put bite size pi...</td>\n",
       "      <td>www.cookbooks.com/Recipe-Details.aspx?id=897570</td>\n",
       "      <td>Gathered</td>\n",
       "      <td>{shredded cheese, chicken, cream of mushroom s...</td>\n",
       "      <td>www.cookbooks.com</td>\n",
       "    </tr>\n",
       "    <tr>\n",
       "      <th>4</th>\n",
       "      <td>Reeses Cups(Candy)</td>\n",
       "      <td>[\"1 c. peanut butter\", \"3/4 c. graham cracker ...</td>\n",
       "      <td>[\"Combine first four ingredients and press in ...</td>\n",
       "      <td>www.cookbooks.com/Recipe-Details.aspx?id=659239</td>\n",
       "      <td>Gathered</td>\n",
       "      <td>{graham cracker crumbs, chocolate chips, powde...</td>\n",
       "      <td>www.cookbooks.com</td>\n",
       "    </tr>\n",
       "    <tr>\n",
       "      <th>...</th>\n",
       "      <td>...</td>\n",
       "      <td>...</td>\n",
       "      <td>...</td>\n",
       "      <td>...</td>\n",
       "      <td>...</td>\n",
       "      <td>...</td>\n",
       "      <td>...</td>\n",
       "    </tr>\n",
       "    <tr>\n",
       "      <th>2231137</th>\n",
       "      <td>Sunny's Fake Crepes</td>\n",
       "      <td>[\"1/2 cup chocolate hazelnut spread (recommend...</td>\n",
       "      <td>[\"Spread hazelnut spread on 1 side of each tor...</td>\n",
       "      <td>www.foodnetwork.com/recipes/sunny-anderson/sun...</td>\n",
       "      <td>Recipes1M</td>\n",
       "      <td>{hazelnuts, tortillas, marshmallows, chocolate...</td>\n",
       "      <td>www.foodnetwork.com</td>\n",
       "    </tr>\n",
       "    <tr>\n",
       "      <th>2231138</th>\n",
       "      <td>Devil Eggs</td>\n",
       "      <td>[\"1 dozen eggs\", \"1 paprika\", \"1 salt and pepp...</td>\n",
       "      <td>[\"Boil eggs on medium for 30mins.\", \"Then cool...</td>\n",
       "      <td>cookpad.com/us/recipes/355411-devil-eggs</td>\n",
       "      <td>Recipes1M</td>\n",
       "      <td>{eggs, choice, relish, salt, paprika, miracle ...</td>\n",
       "      <td>cookpad.com</td>\n",
       "    </tr>\n",
       "    <tr>\n",
       "      <th>2231139</th>\n",
       "      <td>Extremely Easy and Quick - Namul Daikon Salad</td>\n",
       "      <td>[\"150 grams Daikon radish\", \"1 tbsp Sesame oil...</td>\n",
       "      <td>[\"Julienne the daikon and squeeze out the exce...</td>\n",
       "      <td>cookpad.com/us/recipes/153324-extremely-easy-a...</td>\n",
       "      <td>Recipes1M</td>\n",
       "      <td>{sesame oil, soy sauce, salt, radish, white se...</td>\n",
       "      <td>cookpad.com</td>\n",
       "    </tr>\n",
       "    <tr>\n",
       "      <th>2231140</th>\n",
       "      <td>Pan-Roasted Pork Chops With Apple Fritters</td>\n",
       "      <td>[\"1 cup apple cider\", \"6 tablespoons sugar\", \"...</td>\n",
       "      <td>[\"In a large bowl, mix the apple cider with 4 ...</td>\n",
       "      <td>cooking.nytimes.com/recipes/1015164</td>\n",
       "      <td>Recipes1M</td>\n",
       "      <td>{coriander seeds, thyme, apples, apple cider, ...</td>\n",
       "      <td>cooking.nytimes.com</td>\n",
       "    </tr>\n",
       "    <tr>\n",
       "      <th>2231141</th>\n",
       "      <td>Polpette in Spicy Tomato Sauce</td>\n",
       "      <td>[\"1 pound ground veal\", \"1/2 pound sweet Itali...</td>\n",
       "      <td>[\"Preheat the oven to 350.\", \"In a bowl, mix t...</td>\n",
       "      <td>www.foodandwine.com/recipes/polpette-spicy-tom...</td>\n",
       "      <td>Recipes1M</td>\n",
       "      <td>{red pepper, sausage, garlic, bread crumbs, sa...</td>\n",
       "      <td>www.foodandwine.com</td>\n",
       "    </tr>\n",
       "  </tbody>\n",
       "</table>\n",
       "<p>2231142 rows × 7 columns</p>\n",
       "</div>"
      ],
      "text/plain": [
       "                                                 title  \\\n",
       "0                                  No-Bake Nut Cookies   \n",
       "1                                Jewell Ball'S Chicken   \n",
       "2                                          Creamy Corn   \n",
       "3                                        Chicken Funny   \n",
       "4                                 Reeses Cups(Candy)     \n",
       "...                                                ...   \n",
       "2231137                            Sunny's Fake Crepes   \n",
       "2231138                                     Devil Eggs   \n",
       "2231139  Extremely Easy and Quick - Namul Daikon Salad   \n",
       "2231140     Pan-Roasted Pork Chops With Apple Fritters   \n",
       "2231141                 Polpette in Spicy Tomato Sauce   \n",
       "\n",
       "                                               ingredients  \\\n",
       "0        [\"1 c. firmly packed brown sugar\", \"1/2 c. eva...   \n",
       "1        [\"1 small jar chipped beef, cut up\", \"4 boned ...   \n",
       "2        [\"2 (16 oz.) pkg. frozen corn\", \"1 (8 oz.) pkg...   \n",
       "3        [\"1 large whole chicken\", \"2 (10 1/2 oz.) cans...   \n",
       "4        [\"1 c. peanut butter\", \"3/4 c. graham cracker ...   \n",
       "...                                                    ...   \n",
       "2231137  [\"1/2 cup chocolate hazelnut spread (recommend...   \n",
       "2231138  [\"1 dozen eggs\", \"1 paprika\", \"1 salt and pepp...   \n",
       "2231139  [\"150 grams Daikon radish\", \"1 tbsp Sesame oil...   \n",
       "2231140  [\"1 cup apple cider\", \"6 tablespoons sugar\", \"...   \n",
       "2231141  [\"1 pound ground veal\", \"1/2 pound sweet Itali...   \n",
       "\n",
       "                                                directions  \\\n",
       "0        [\"In a heavy 2-quart saucepan, mix brown sugar...   \n",
       "1        [\"Place chipped beef on bottom of baking dish....   \n",
       "2        [\"In a slow cooker, combine all ingredients. C...   \n",
       "3        [\"Boil and debone chicken.\", \"Put bite size pi...   \n",
       "4        [\"Combine first four ingredients and press in ...   \n",
       "...                                                    ...   \n",
       "2231137  [\"Spread hazelnut spread on 1 side of each tor...   \n",
       "2231138  [\"Boil eggs on medium for 30mins.\", \"Then cool...   \n",
       "2231139  [\"Julienne the daikon and squeeze out the exce...   \n",
       "2231140  [\"In a large bowl, mix the apple cider with 4 ...   \n",
       "2231141  [\"Preheat the oven to 350.\", \"In a bowl, mix t...   \n",
       "\n",
       "                                                      link     source  \\\n",
       "0           www.cookbooks.com/Recipe-Details.aspx?id=44874   Gathered   \n",
       "1          www.cookbooks.com/Recipe-Details.aspx?id=699419   Gathered   \n",
       "2           www.cookbooks.com/Recipe-Details.aspx?id=10570   Gathered   \n",
       "3          www.cookbooks.com/Recipe-Details.aspx?id=897570   Gathered   \n",
       "4          www.cookbooks.com/Recipe-Details.aspx?id=659239   Gathered   \n",
       "...                                                    ...        ...   \n",
       "2231137  www.foodnetwork.com/recipes/sunny-anderson/sun...  Recipes1M   \n",
       "2231138           cookpad.com/us/recipes/355411-devil-eggs  Recipes1M   \n",
       "2231139  cookpad.com/us/recipes/153324-extremely-easy-a...  Recipes1M   \n",
       "2231140                cooking.nytimes.com/recipes/1015164  Recipes1M   \n",
       "2231141  www.foodandwine.com/recipes/polpette-spicy-tom...  Recipes1M   \n",
       "\n",
       "                                                       NER  \\\n",
       "0        {bite size shredded rice biscuits, nuts, brown...   \n",
       "1        {beef, chicken breasts, sour cream, cream of m...   \n",
       "2        {pepper, frozen corn, cream cheese, salt, butt...   \n",
       "3        {shredded cheese, chicken, cream of mushroom s...   \n",
       "4        {graham cracker crumbs, chocolate chips, powde...   \n",
       "...                                                    ...   \n",
       "2231137  {hazelnuts, tortillas, marshmallows, chocolate...   \n",
       "2231138  {eggs, choice, relish, salt, paprika, miracle ...   \n",
       "2231139  {sesame oil, soy sauce, salt, radish, white se...   \n",
       "2231140  {coriander seeds, thyme, apples, apple cider, ...   \n",
       "2231141  {red pepper, sausage, garlic, bread crumbs, sa...   \n",
       "\n",
       "                        site  \n",
       "0          www.cookbooks.com  \n",
       "1          www.cookbooks.com  \n",
       "2          www.cookbooks.com  \n",
       "3          www.cookbooks.com  \n",
       "4          www.cookbooks.com  \n",
       "...                      ...  \n",
       "2231137  www.foodnetwork.com  \n",
       "2231138          cookpad.com  \n",
       "2231139          cookpad.com  \n",
       "2231140  cooking.nytimes.com  \n",
       "2231141  www.foodandwine.com  \n",
       "\n",
       "[2231142 rows x 7 columns]"
      ]
     },
     "metadata": {},
     "output_type": "display_data"
    }
   ],
   "source": [
    "import ast\n",
    "# pd.set_option('display.max_colwidth', None)\n",
    "# df['NER'] = df['NER'].apply(ast.literal_eval)\n",
    "# df['NER'] = df['NER'].apply(lambda x: set(x))\n",
    "df['NER'] = df['NER'].apply(lambda x: set(ast.literal_eval(x)))\n",
    "display(df)"
   ]
  },
  {
   "cell_type": "code",
   "execution_count": 3,
   "metadata": {},
   "outputs": [
    {
     "data": {
      "text/plain": [
       "14501      {instant beef bouillon, tomato, ground turkey,...\n",
       "18169      {swiss cheese, oregano, white wine, brown rice...\n",
       "36583      {oregano, brown rice, ready, worcestershire sa...\n",
       "54674      {brown rice, frozen zucchini, pepper, parmesan...\n",
       "64927      {brown rice, pepper, wild rice, instant beef b...\n",
       "                                 ...                        \n",
       "2214197    {oregano, green bell pepper, tomatoes, brown r...\n",
       "2222686    {cumin, thin strips, brown rice, chicken thigh...\n",
       "2222834    {honey, white wine, brown rice, straw mushroom...\n",
       "2226456    {chili bean, tabasco sauce, brown rice, pepper...\n",
       "2226570    {carrot, red pepper, capers, red kidney beans,...\n",
       "Name: NER, Length: 772, dtype: object"
      ]
     },
     "metadata": {},
     "output_type": "display_data"
    }
   ],
   "source": [
    "ingredients_to_check = {\"pepper\", \"brown rice\"}\n",
    "mask = df['NER'].apply(lambda x : ingredients_to_check.issubset(set(x)))\n",
    "matching_rows = df[mask]\n",
    "\n",
    "res = (matching_rows['NER'])\n",
    "display(res)\n"
   ]
  },
  {
   "cell_type": "code",
   "execution_count": 7,
   "metadata": {},
   "outputs": [
    {
     "data": {
      "text/plain": [
       "198899"
      ]
     },
     "execution_count": 7,
     "metadata": {},
     "output_type": "execute_result"
    }
   ],
   "source": [
    "all_ingredients = set.union(*df['NER'].tolist())\n",
    "len(all_ingredients)"
   ]
  }
 ],
 "metadata": {
  "kernelspec": {
   "display_name": "Python 3 (ipykernel)",
   "language": "python",
   "name": "python3"
  },
  "language_info": {
   "codemirror_mode": {
    "name": "ipython",
    "version": 3
   },
   "file_extension": ".py",
   "mimetype": "text/x-python",
   "name": "python",
   "nbconvert_exporter": "python",
   "pygments_lexer": "ipython3",
   "version": "3.9.16"
  }
 },
 "nbformat": 4,
 "nbformat_minor": 2
}
